{
 "cells": [
  {
   "cell_type": "code",
   "execution_count": 1,
   "id": "4f5c5bf1",
   "metadata": {},
   "outputs": [],
   "source": [
    "import pandas as pd\n",
    "\n",
    "from utilities import (\n",
    "    DYESTUFF_COLS,\n",
    "    EXOTIC_COLS,\n",
    "    FAITH_ENCODINGS,\n",
    "    FULL_OBJECT_COLS,\n",
    "    GENDER_ENCODINGS,\n",
    "    WEAPONS_AND_ARMOR_COLS,\n",
    ")\n"
   ]
  },
  {
   "cell_type": "code",
   "execution_count": 2,
   "id": "16c25100",
   "metadata": {},
   "outputs": [],
   "source": [
    "TEMP_COLS = [\n",
    "    'bwe_object_points',\n",
    "    'bwe_all_linens',\n",
    "    'bwe_linen_points',\n",
    "    'bwe_all_exotic',\n",
    "    'bwe_exotic_points',\n",
    "    'bwe_all_dyestuffs',\n",
    "    'bwe_dyestuff_points',\n",
    "    'bwe_all_arms_armor',\n",
    "    'bwe_arms_armor_points',\n",
    "]"
   ]
  },
  {
   "cell_type": "code",
   "execution_count": 3,
   "id": "fab8bb1c",
   "metadata": {},
   "outputs": [],
   "source": [
    "# Load the data\n",
    "df = pd.read_csv('data/Sample_4.csv')\n",
    "\n",
    "# add unique id\n",
    "df['id'] = df.index\n",
    "\n",
    "# drop temporary columns\n",
    "df.drop(columns=TEMP_COLS, inplace=True, errors='ignore')\n",
    "\n",
    "# remove cardinality suffixes (i.e. st, rd, th) from estimated_wealth_quartile\n",
    "df['wealth_quartile'] = df['wealth_quartile'].str.replace(r'(\\d+)(st|nd|rd|th)', r'\\1', regex=True)\n",
    "\n",
    "# add presence/absence columns for tablecloths, bedsheets, and tunics based on the totals\n",
    "df['tablecloths'] = df['total_tablecloths'].apply(lambda x: 1 if x > 0 else 0)\n",
    "df['bedsheets'] = df['total_bedsheets'].apply(lambda x: 1 if x > 0 else 0)\n",
    "df['tunics'] = df['total_tunics'].apply(lambda x: 1 if x > 0 else 0)\n",
    "\n",
    "# add presence/absence column for linens combined\n",
    "df['linens'] = df[['tablecloths', 'bedsheets', 'tunics']].apply(lambda x: 1 if any(x > 0) else 0, axis=1)\n",
    "\n",
    "# add total_linens column as sum of tablecloths, bedsheets, and tunics\n",
    "df['total_linens'] = df[['total_tablecloths', 'total_bedsheets', 'total_tunics']].sum(axis=1)\n",
    "\n",
    "# add presence/absence column for weapons and armor based on the weapons_and_armor_cols\n",
    "df['weapons'] = df[WEAPONS_AND_ARMOR_COLS].apply(lambda x: 1 if any(x > 0) else 0, axis=1)\n",
    "\n",
    "# add 'var_weapons' as sum of all weapons and armor columns, indicating strength of weapons and armor variability\n",
    "df['var_weapons'] = df[WEAPONS_AND_ARMOR_COLS].sum(axis=1)\n",
    "\n",
    "# add 'var_exotic' as sum of all luxury object columns\n",
    "df['var_exotic'] = df[EXOTIC_COLS].sum(axis=1)\n",
    "\n",
    "# add 'var_dyestuff' as sum of all dyestuffs columns\n",
    "df['var_dyestuff'] = df[DYESTUFF_COLS].sum(axis=1)\n",
    "\n",
    "# encode faith and gender\n",
    "df['faith'] = df['faith'].map(FAITH_ENCODINGS)\n",
    "df['gender_decedent'] = df['gender_decedent'].map(GENDER_ENCODINGS)\n",
    "\n",
    "# Replace NaN values in columns with 0 and convert to integers\n",
    "target_cols = [\n",
    "    'total_tablecloths',\n",
    "    'total_bedsheets',\n",
    "    'total_tunics',\n",
    "    'object_phrases',\n",
    "    'wealth_points',\n",
    "    'wealth_quartile',\n",
    "    *FULL_OBJECT_COLS,\n",
    "]\n",
    "df[target_cols] = df[target_cols].fillna(0).astype(int)\n"
   ]
  },
  {
   "cell_type": "code",
   "execution_count": 4,
   "id": "ee0946b6",
   "metadata": {},
   "outputs": [],
   "source": [
    "# save the dataframe to a new CSV file\n",
    "df.to_csv('data/dataset.csv', index=False)\n"
   ]
  }
 ],
 "metadata": {
  "kernelspec": {
   "display_name": ".venv",
   "language": "python",
   "name": "python3"
  },
  "language_info": {
   "codemirror_mode": {
    "name": "ipython",
    "version": 3
   },
   "file_extension": ".py",
   "mimetype": "text/x-python",
   "name": "python",
   "nbconvert_exporter": "python",
   "pygments_lexer": "ipython3",
   "version": "3.13.2"
  }
 },
 "nbformat": 4,
 "nbformat_minor": 5
}
