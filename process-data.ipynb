{
 "cells": [
  {
   "cell_type": "code",
   "execution_count": 1,
   "id": "4f5c5bf1",
   "metadata": {},
   "outputs": [],
   "source": [
    "import pandas as pd\n",
    "\n",
    "from utilities import CUSHIONS, FAITH_ENCODING, GENDER_ENCODING, LINENS, PILLOWS\n"
   ]
  },
  {
   "cell_type": "code",
   "execution_count": 2,
   "id": "fab8bb1c",
   "metadata": {},
   "outputs": [],
   "source": [
    "# Load the data\n",
    "df = pd.read_csv('data/Sample_5.csv')\n",
    "key = pd.read_csv('data/key.csv')\n",
    "\n",
    "# add unique id\n",
    "df['id'] = df.index\n",
    "\n",
    "# add presence/absence columns for tablecloths, bedsheets, and tunics based on the totals\n",
    "df['tablecloths'] = df['total_tablecloths'].apply(lambda x: 1 if x > 0 else 0)\n",
    "df['bedsheets'] = df['total_bedsheets'].apply(lambda x: 1 if x > 0 else 0)\n",
    "df['tunics'] = df['total_tunics'].apply(lambda x: 1 if x > 0 else 0)\n",
    "# add presence/absence column for linens combined\n",
    "df['linens'] = df[LINENS].apply(lambda x: 1 if any(x > 0) else 0, axis=1)\n",
    "# add total_linens column as sum of tablecloths, bedsheets, and tunics\n",
    "df['total_linens'] = df[['total_tablecloths', 'total_bedsheets', 'total_tunics']].sum(axis=1)\n",
    "\n",
    "# add presence/absence column for dyestuffs based on the columns in the dyestuffs group (key)\n",
    "dyestuffs_columns = key[key['group'] == 'dyestuff']['col_name'].tolist()\n",
    "df['dyestuffs'] = df[dyestuffs_columns].apply(lambda x: 1 if any(x > 0) else 0, axis=1)\n",
    "# add 'var_dyestuffs' as sum of all dyestuffs columns\n",
    "df['var_dyestuffs'] = df[dyestuffs_columns].sum(axis=1)\n",
    "\n",
    "# add presence/absence column for exotics based on the columns in the exotic group (key)\n",
    "exotics_columns = key[key['group'] == 'exotic']['col_name'].tolist()\n",
    "df['exotic'] = df[exotics_columns].apply(lambda x: 1 if any(x > 0) else 0, axis=1)\n",
    "# add 'var_exotic' as sum of all exotics columns\n",
    "df['var_exotic'] = df[exotics_columns].sum(axis=1)\n",
    "\n",
    "# add presence/absence column for food_prep based on the columns in the food_preparation group (key)\n",
    "food_prep_columns = key[key['group'] == 'food_preparation']['col_name'].tolist()\n",
    "df['food_prep'] = df[food_prep_columns].apply(lambda x: 1 if any(x > 0) else 0, axis=1)\n",
    "# add 'var_food_prep' as sum of all food preparation columns\n",
    "df['var_food_prep'] = df[food_prep_columns].sum(axis=1)\n",
    "\n",
    "# add presence/absence column for household objects based on the columns in the household group (key)\n",
    "household_columns = key[key['group'] == 'household']['col_name'].tolist()\n",
    "df['household'] = df[household_columns].apply(lambda x: 1 if any(x > 0) else 0, axis=1)\n",
    "# add 'var_household' as sum of all household columns\n",
    "df['var_household'] = df[household_columns].sum(axis=1)\n",
    "\n",
    "# add presence/absence column for luxury objects based on the columns in the luxury group (key)\n",
    "luxury_columns = key[key['group'] == 'luxury']['col_name'].tolist()\n",
    "df['luxury'] = df[luxury_columns].apply(lambda x: 1 if any(x > 0) else 0, axis=1)\n",
    "# add 'var_luxury' as sum of all luxury columns\n",
    "df['var_luxury'] = df[luxury_columns].sum(axis=1)\n",
    "\n",
    "# add presence/absence column for weapons and armor based on the columns in the weapons_and_armour group (key)\n",
    "weapons_columns = key[key['group'] == 'weapons_and_armour']['col_name'].tolist()\n",
    "df['weapons'] = df[weapons_columns].apply(lambda x: 1 if any(x > 0) else 0, axis=1)\n",
    "# add 'var_weapons' as sum of all weapons and armor columns\n",
    "df['var_weapons'] = df[weapons_columns].sum(axis=1)\n",
    "\n",
    "# add presence/absence columns for cushions and pillows based on the respective subgoups in the key\n",
    "df['cushions'] = df[CUSHIONS].apply(lambda x: 1 if any(x > 0) else 0, axis=1)\n",
    "df['pillows'] = df[PILLOWS].apply(lambda x: 1 if any(x > 0) else 0, axis=1)\n",
    "\n",
    "# encode faith and gender as integers\n",
    "df['faith'] = df['faith'].map(FAITH_ENCODING)\n",
    "df['gender'] = df['gender'].map(GENDER_ENCODING)\n",
    "\n",
    "# Replace NaN values in all columns with 0 and convert to integers\n",
    "all_objects = key['col_name'].tolist()\n",
    "target_cols = [\n",
    "    'total_tablecloths',\n",
    "    'total_bedsheets',\n",
    "    'total_tunics',\n",
    "    'object_phrases',\n",
    "    'wealth_points',\n",
    "    *all_objects,\n",
    "]\n",
    "df[target_cols] = df[target_cols].fillna(0).astype(int)\n"
   ]
  },
  {
   "cell_type": "code",
   "execution_count": 3,
   "id": "ee0946b6",
   "metadata": {},
   "outputs": [],
   "source": [
    "# save the dataframe to a new CSV file\n",
    "df.to_csv('data/dataset.csv', index=False)\n"
   ]
  }
 ],
 "metadata": {
  "kernelspec": {
   "display_name": ".venv",
   "language": "python",
   "name": "python3"
  },
  "language_info": {
   "codemirror_mode": {
    "name": "ipython",
    "version": 3
   },
   "file_extension": ".py",
   "mimetype": "text/x-python",
   "name": "python",
   "nbconvert_exporter": "python",
   "pygments_lexer": "ipython3",
   "version": "3.13.2"
  }
 },
 "nbformat": 4,
 "nbformat_minor": 5
}
